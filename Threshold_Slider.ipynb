{
 "cells": [
  {
   "cell_type": "code",
   "execution_count": 1,
   "metadata": {},
   "outputs": [],
   "source": [
    "import tifffile\n",
    "import numpy as np\n",
    "import skimage.filters as filters\n",
    "import napari"
   ]
  },
  {
   "cell_type": "code",
   "execution_count": 2,
   "metadata": {},
   "outputs": [],
   "source": [
    "%gui qt"
   ]
  },
  {
   "cell_type": "code",
   "execution_count": 9,
   "metadata": {},
   "outputs": [],
   "source": [
    "path = \"/mnt/5404b8a5-71b7-4464-9a1e-b40cd26fac58/Data_Drive/TRPC6 Spacetraining Data/TRPC6 GSK Spacetraining/190131/N1A5/000_D_190130_A_N1A5.tif\""
   ]
  },
  {
   "cell_type": "code",
   "execution_count": 10,
   "metadata": {},
   "outputs": [],
   "source": [
    "volume = tifffile.imread(path)"
   ]
  },
  {
   "cell_type": "code",
   "execution_count": 45,
   "metadata": {},
   "outputs": [
    {
     "name": "stderr",
     "output_type": "stream",
     "text": [
      "WARNING: QMainWindow::saveState(): 'objectName' not set for QDockWidget 0x6be2200 ';\n",
      "WARNING: QMainWindow::saveState(): 'objectName' not set for QDockWidget 0x45bbd20 ';\n"
     ]
    }
   ],
   "source": [
    "import napari\n",
    "import skimage.data\n",
    "import skimage.filters\n",
    "from napari.types import ImageData\n",
    "\n",
    "from magicgui import magicgui\n",
    "\n",
    "def threshold_image(image, percent):\n",
    "    temp_img = image.copy()\n",
    "    temp_img[temp_img<np.max(temp_img)*percent]=0\n",
    "    temp_img[temp_img>0] = 1\n",
    "    return temp_img\n",
    "\n",
    "\n",
    "# - `auto_call` tells magicgui to call the function when a parameter changes\n",
    "# - we use `widget_type` to override the default \"float\" widget on sigma,\n",
    "#   and provide a maximum valid value.\n",
    "# - we contstrain the possible choices for `mode`\n",
    "@magicgui(\n",
    "    auto_call=True,\n",
    "    percent={\"widget_type\": \"FloatSlider\", \"max\": 1},\n",
    "    layout='horizontal'\n",
    ")\n",
    "\n",
    "\n",
    "def precent_threshold(layer: ImageData, percent: float = .4) -> ImageData:\n",
    "    \"\"\"Apply a precent threshold ``layer``.\"\"\"\n",
    "    if layer is not None:\n",
    "        return threshold_image(layer, percent=percent)\n",
    "\n",
    "# create a viewer and add some images\n",
    "viewer = napari.Viewer()\n",
    "viewer.add_image(volume, name=\"neuron\")\n",
    "\n",
    "# Add it to the napari viewer\n",
    "viewer.window.add_dock_widget(precent_threshold)\n",
    "# update the layer dropdown menu when the layer list changes\n",
    "viewer.layers.events.changed.connect(precent_threshold.reset_choices)\n",
    "\n",
    "napari.run()"
   ]
  },
  {
   "cell_type": "code",
   "execution_count": null,
   "metadata": {},
   "outputs": [],
   "source": []
  }
 ],
 "metadata": {
  "kernelspec": {
   "display_name": "Python 3",
   "language": "python",
   "name": "python3"
  },
  "language_info": {
   "codemirror_mode": {
    "name": "ipython",
    "version": 3
   },
   "file_extension": ".py",
   "mimetype": "text/x-python",
   "name": "python",
   "nbconvert_exporter": "python",
   "pygments_lexer": "ipython3",
   "version": "3.8.5"
  }
 },
 "nbformat": 4,
 "nbformat_minor": 4
}
