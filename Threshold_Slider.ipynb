{
 "cells": [
  {
   "cell_type": "code",
   "execution_count": 8,
   "metadata": {},
   "outputs": [],
   "source": [
    "import tifffile\n",
    "import numpy as np\n",
    "import skimage.filters as filters\n",
    "import napari\n",
    "\n",
    "from skimage.segmentation import flood_fill\n",
    "from scipy.ndimage import center_of_mass "
   ]
  },
  {
   "cell_type": "code",
   "execution_count": 2,
   "metadata": {},
   "outputs": [],
   "source": [
    "%gui qt"
   ]
  },
  {
   "cell_type": "code",
   "execution_count": 3,
   "metadata": {},
   "outputs": [],
   "source": [
    "path = \"/mnt/5404b8a5-71b7-4464-9a1e-b40cd26fac58/Data_Drive/TRPC6 Spacetraining Data/TRPC6 GSK Spacetraining/190131/N1A5/000_D_190130_A_N1A5.tif\""
   ]
  },
  {
   "cell_type": "code",
   "execution_count": 4,
   "metadata": {},
   "outputs": [],
   "source": [
    "import tkinter as tk\n",
    "from tkinter import filedialog\n",
    "\n",
    "root = tk.Tk()\n",
    "root.withdraw()\n",
    "\n",
    "file_path = filedialog.askopenfilename()"
   ]
  },
  {
   "cell_type": "code",
   "execution_count": 5,
   "metadata": {},
   "outputs": [],
   "source": [
    "volume = tifffile.imread(file_path)"
   ]
  },
  {
   "cell_type": "code",
   "execution_count": 25,
   "metadata": {},
   "outputs": [
    {
     "name": "stderr",
     "output_type": "stream",
     "text": [
      "WARNING: QMainWindow::saveState(): 'objectName' not set for QDockWidget 0x103f5660 ';\n",
      "WARNING: QMainWindow::saveState(): 'objectName' not set for QDockWidget 0xa3f84d0 ';\n",
      "WARNING: QMainWindow::saveState(): 'objectName' not set for QDockWidget 0x37edfe0 ';\n",
      "WARNING: QMainWindow::saveState(): 'objectName' not set for QDockWidget 0x6b97ed0 ';\n"
     ]
    }
   ],
   "source": [
    "import napari\n",
    "import skimage.data\n",
    "import skimage.filters\n",
    "from napari.types import ImageData, LabelsData\n",
    "\n",
    "from magicgui import magicgui\n",
    "\n",
    "blur= filters.gaussian(volume, .5)\n",
    "\n",
    "def threshold_image(image, percent):\n",
    "    temp_img = image.copy()\n",
    "    temp_img[temp_img<np.max(temp_img)*percent]=0\n",
    "    return temp_img\n",
    "\n",
    "def binary_labels(image):\n",
    "    temp_img = image.copy()\n",
    "    temp_img[temp_img >0] = 2\n",
    "    temp_img = temp_img.astype('int')\n",
    "    return temp_img\n",
    "# - `auto_call` tells magicgui to call the function when a parameter changes\n",
    "# - we use `widget_type` to override the default \"float\" widget on sigma,\n",
    "#   and provide a maximum valid value.\n",
    "# - we contstrain the possible choices for `mode`\n",
    "@magicgui(\n",
    "    auto_call=True,\n",
    "    percent={\"widget_type\": \"FloatSlider\", \"max\": 1},\n",
    "    layout='horizontal'\n",
    ")\n",
    "def precent_threshold(layer: ImageData, percent: float = .4) -> ImageData:\n",
    "    \"\"\"Apply a precent threshold ``layer``.\"\"\"\n",
    "    if layer is not None:\n",
    "        label_img =  threshold_image(blur, percent=percent)\n",
    "        return label_img\n",
    "\n",
    "@magicgui(call_button = 'Generate Label', )\n",
    "def label_gen(layer: ImageData,) -> LabelsData:\n",
    "    if layer is not None:\n",
    "        viewer.layers.pop()\n",
    "        label_img =  binary_labels(layer)\n",
    "        viewer.window.add_dock_widget(export_label)\n",
    "        return label_img\n",
    "    \n",
    "@magicgui(call_button = 'Save Labels', )\n",
    "def export_label(layer: LabelsData) -> LabelsData:\n",
    "    if layer is not None:\n",
    "        label_img =  binary_labels(layer)\n",
    "        return label_img\n",
    "    \n",
    "# create a viewer and add some images\n",
    "viewer = napari.Viewer()\n",
    "viewer.add_image(volume, name=\"neuron\")\n",
    "\n",
    "# Add it to the napari viewer\n",
    "viewer.window.add_dock_widget(precent_threshold)\n",
    "viewer.window.add_dock_widget(label_gen)\n",
    "#viewer.window.add_dock_widget(label_gen)\n",
    "# update the layer dropdown menu when the layer list changes\n",
    "viewer.layers.events.changed.connect(precent_threshold.reset_choices)\n",
    "\n",
    "napari.run()"
   ]
  },
  {
   "cell_type": "code",
   "execution_count": 8,
   "metadata": {},
   "outputs": [],
   "source": [
    "viewer = napari.Viewer()\n"
   ]
  },
  {
   "cell_type": "code",
   "execution_count": 19,
   "metadata": {},
   "outputs": [
    {
     "data": {
      "text/plain": [
       "[<Image layer 'neuron' at 0x7f0a0b991160>, <Image layer 'precent_threshold result' at 0x7f0a1160d880>, <Labels layer 'label_gen result' at 0x7f0a2f7af5e0>]"
      ]
     },
     "execution_count": 19,
     "metadata": {},
     "output_type": "execute_result"
    }
   ],
   "source": [
    "viewer.layers"
   ]
  },
  {
   "cell_type": "code",
   "execution_count": 21,
   "metadata": {},
   "outputs": [
    {
     "ename": "SyntaxError",
     "evalue": "invalid syntax (<ipython-input-21-9830541ac1ba>, line 1)",
     "output_type": "error",
     "traceback": [
      "\u001b[0;36m  File \u001b[0;32m\"<ipython-input-21-9830541ac1ba>\"\u001b[0;36m, line \u001b[0;32m1\u001b[0m\n\u001b[0;31m    viewer.window.\u001b[0m\n\u001b[0m                  ^\u001b[0m\n\u001b[0;31mSyntaxError\u001b[0m\u001b[0;31m:\u001b[0m invalid syntax\n"
     ]
    }
   ],
   "source": [
    "viewer.window.remove_dock_widget()"
   ]
  },
  {
   "cell_type": "code",
   "execution_count": null,
   "metadata": {},
   "outputs": [],
   "source": []
  }
 ],
 "metadata": {
  "kernelspec": {
   "display_name": "Python 3",
   "language": "python",
   "name": "python3"
  },
  "language_info": {
   "codemirror_mode": {
    "name": "ipython",
    "version": 3
   },
   "file_extension": ".py",
   "mimetype": "text/x-python",
   "name": "python",
   "nbconvert_exporter": "python",
   "pygments_lexer": "ipython3",
   "version": "3.8.5"
  }
 },
 "nbformat": 4,
 "nbformat_minor": 4
}
