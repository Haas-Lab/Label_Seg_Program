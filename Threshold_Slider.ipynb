{
 "cells": [
  {
   "cell_type": "code",
   "execution_count": 1,
   "metadata": {},
   "outputs": [],
   "source": [
    "import tifffile\n",
    "import numpy as np\n",
    "import skimage.filters as filters\n",
    "import napari\n",
    "\n",
    "from skimage.segmentation import flood_fill\n",
    "from scipy.ndimage import center_of_mass "
   ]
  },
  {
   "cell_type": "code",
   "execution_count": 2,
   "metadata": {},
   "outputs": [],
   "source": [
    "%gui qt"
   ]
  },
  {
   "cell_type": "code",
   "execution_count": 3,
   "metadata": {},
   "outputs": [],
   "source": [
    "path = \"/mnt/5404b8a5-71b7-4464-9a1e-b40cd26fac58/Data_Drive/TRPC6 Spacetraining Data/TRPC6 GSK Spacetraining/190131/N1A5/000_D_190130_A_N1A5.tif\""
   ]
  },
  {
   "cell_type": "code",
   "execution_count": 4,
   "metadata": {},
   "outputs": [],
   "source": [
    "import tkinter as tk\n",
    "from tkinter import filedialog\n",
    "\n",
    "root = tk.Tk()\n",
    "root.withdraw()\n",
    "\n",
    "file_path = filedialog.askopenfilename()"
   ]
  },
  {
   "cell_type": "code",
   "execution_count": 5,
   "metadata": {},
   "outputs": [],
   "source": [
    "volume = tifffile.imread(file_path)"
   ]
  },
  {
   "cell_type": "code",
   "execution_count": null,
   "metadata": {},
   "outputs": [],
   "source": [
    "import napari\n",
    "import skimage.data\n",
    "import skimage.filters\n",
    "from napari.types import ImageData, LabelsData\n",
    "\n",
    "from magicgui import magicgui\n",
    "\n",
    "blur= filters.gaussian(volume, .5)\n",
    "\n",
    "def threshold_image(image, percent):\n",
    "    temp_img = image.copy()\n",
    "    temp_img[temp_img<np.max(temp_img)*percent]=0\n",
    "    return temp_img\n",
    "\n",
    "def binary_labels(image):\n",
    "    temp_img = image.copy()\n",
    "    temp_img[temp_img >0] = 2\n",
    "    temp_img = temp_img.astype('int')\n",
    "    return temp_img\n",
    "# - `auto_call` tells magicgui to call the function when a parameter changes\n",
    "# - we use `widget_type` to override the default \"float\" widget on sigma,\n",
    "#   and provide a maximum valid value.\n",
    "# - we contstrain the possible choices for `mode`\n",
    "@magicgui(\n",
    "    auto_call=True,\n",
    "    percent={\"widget_type\": \"FloatSlider\", \"max\": 1},\n",
    "    layout='horizontal'\n",
    ")\n",
    "def precent_threshold(layer: ImageData, percent: float = .4) -> ImageData:\n",
    "    \"\"\"Apply a precent threshold ``layer``.\"\"\"\n",
    "    if layer is not None:\n",
    "        label_img =  threshold_image(blur, percent=percent)\n",
    "\n",
    "        return label_img\n",
    "\n",
    "@magicgui(call_button = 'Generate Label', )\n",
    "def label_gen(layer: ImageData,) -> LabelsData:\n",
    "    if layer is not None:\n",
    "        viewer.layers.pop()\n",
    "        label_img =  binary_labels(layer)\n",
    "        \n",
    "        # Add export Widget\n",
    "        viewer.window.add_dock_widget(export_label)\n",
    "   \n",
    "        \n",
    "        return label_img\n",
    "    \n",
    "@magicgui(call_button = 'Save Labels', )\n",
    "def export_label(layer: LabelsData) -> LabelsData:\n",
    "    if layer is not None:\n",
    "        label_img =  binary_labels(layer)\n",
    "        return label_img\n",
    "    \n",
    "# create a viewer and add some images\n",
    "viewer = napari.Viewer()\n",
    "viewer.add_image(volume, name=\"neuron\")\n",
    "\n",
    "# Add it to the napari viewer\n",
    "viewer.window.add_dock_widget(precent_threshold)\n",
    "viewer.layers[1].blending='additive'\n",
    "viewer.layers[0].colormap='green'\n",
    "viewer.layers[1].colormap='red'\n",
    "viewer.layers[0].gamma=.80\n",
    "viewer.layers[1].gamma=.25\n",
    "\n",
    "viewer.window.add_dock_widget(label_gen)\n",
    "#viewer.window.add_dock_widget(label_gen)\n",
    "# update the layer dropdown menu when the layer list changes\n",
    "viewer.layers.events.changed.connect(precent_threshold.reset_choices)\n",
    "\n",
    "napari.run()"
   ]
  },
  {
   "cell_type": "code",
   "execution_count": null,
   "metadata": {},
   "outputs": [],
   "source": []
  },
  {
   "cell_type": "code",
   "execution_count": 7,
   "metadata": {},
   "outputs": [
    {
     "data": {
      "text/plain": [
       "[<Image layer 'neuron' at 0x27b2f758dc0>, <Labels layer 'label_gen result' at 0x27b3cfa1a60>]"
      ]
     },
     "execution_count": 7,
     "metadata": {},
     "output_type": "execute_result"
    }
   ],
   "source": [
    "viewer.layers\n"
   ]
  },
  {
   "cell_type": "code",
   "execution_count": 8,
   "metadata": {},
   "outputs": [
    {
     "ename": "TypeError",
     "evalue": "remove_dock_widget() missing 1 required positional argument: 'widget'",
     "output_type": "error",
     "traceback": [
      "\u001b[1;31m-----------------------------------------------------------\u001b[0m",
      "\u001b[1;31mTypeError\u001b[0m                 Traceback (most recent call last)",
      "\u001b[1;32m<ipython-input-8-760227bfd0bd>\u001b[0m in \u001b[0;36m<module>\u001b[1;34m\u001b[0m\n\u001b[1;32m----> 1\u001b[1;33m \u001b[0mviewer\u001b[0m\u001b[1;33m.\u001b[0m\u001b[0mwindow\u001b[0m\u001b[1;33m.\u001b[0m\u001b[0mremove_dock_widget\u001b[0m\u001b[1;33m(\u001b[0m\u001b[1;33m)\u001b[0m\u001b[1;33m\u001b[0m\u001b[1;33m\u001b[0m\u001b[0m\n\u001b[0m",
      "\u001b[1;31mTypeError\u001b[0m: remove_dock_widget() missing 1 required positional argument: 'widget'"
     ]
    }
   ],
   "source": [
    "viewer.window.remove_dock_widget()"
   ]
  },
  {
   "cell_type": "code",
   "execution_count": null,
   "metadata": {},
   "outputs": [],
   "source": []
  },
  {
   "cell_type": "code",
   "execution_count": null,
   "metadata": {},
   "outputs": [],
   "source": []
  }
 ],
 "metadata": {
  "kernelspec": {
   "display_name": "Python 3",
   "language": "python",
   "name": "python3"
  },
  "language_info": {
   "codemirror_mode": {
    "name": "ipython",
    "version": 3
   },
   "file_extension": ".py",
   "mimetype": "text/x-python",
   "name": "python",
   "nbconvert_exporter": "python",
   "pygments_lexer": "ipython3",
   "version": "3.9.1"
  }
 },
 "nbformat": 4,
 "nbformat_minor": 4
}
