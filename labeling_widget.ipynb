{
 "cells": [
  {
   "cell_type": "code",
   "execution_count": 7,
   "metadata": {},
   "outputs": [
    {
     "data": {
      "text/plain": [
       "<napari._qt.widgets.qt_viewer_dock_widget.QtViewerDockWidget at 0x7fb66fddbaf0>"
      ]
     },
     "execution_count": 7,
     "metadata": {},
     "output_type": "execute_result"
    },
    {
     "name": "stderr",
     "output_type": "stream",
     "text": [
      "WARNING: QMainWindow::saveState(): 'objectName' not set for QDockWidget 0x5a74bd0 ';\n"
     ]
    }
   ],
   "source": [
    "#### IMPORT LIBRARIES\n",
    "\n",
    "import numpy as np\n",
    "# import all skimage related stuff\n",
    "import skimage.io\n",
    "from skimage.measure import label\n",
    "from skimage import filters, exposure\n",
    "\n",
    "# import all napari related stuff\n",
    "import napari\n",
    "from napari.types import ImageData, LabelsData\n",
    "from magicgui import magicgui\n",
    "\n",
    "%gui qt\n",
    "import os\n",
    "\n",
    "#### PROCESSING FUNCTIONS\n",
    "\n",
    "def adaptive_local_threshold(image, block_size):\n",
    "    return filters.threshold_local(image, block_size)\n",
    "\n",
    "def gamma_level(image, gamma):\n",
    "    return exposure.adjust_gamma(image, gamma)\n",
    "\n",
    "def global_threshold_method(image, Threshold_Method):\n",
    "    if Threshold_Method == 'Isodata':\n",
    "        thresh = filters.threshold_isodata(image) # calculate threshold using isodata method\n",
    "        tmp_img = image > thresh\n",
    "        return tmp_img\n",
    "    if Threshold_Method == 'Li':\n",
    "        thresh = filters.threshold_li(image) # calculate threshold using isodata method\n",
    "        tmp_img = image > thresh\n",
    "        return tmp_img\n",
    "    if Threshold_Method == 'Mean':\n",
    "        thresh = filters.threshold_mean(image) # calculate threshold using isodata method\n",
    "        tmp_img = image > thresh\n",
    "        return tmp_img\n",
    "    if Threshold_Method == 'Minimum':\n",
    "        thresh = filters.threshold_minimum(image)\n",
    "        tmp_img = image > thresh\n",
    "        return tmp_img\n",
    "    if Threshold_Method == 'Otsu':\n",
    "        thresh = filters.threshold_otsu(image)\n",
    "        tmp_img = image > thresh\n",
    "        return tmp_img\n",
    "    if Threshold_Method == 'Yen':\n",
    "        thresh = filters.threshold_yen(image)\n",
    "        tmp_img = image > thresh\n",
    "        return tmp_img\n",
    "    if Threshold_Method == 'Triangle':\n",
    "        thresh = filters.threshold_triangle(image)\n",
    "        tmp_img = image > thresh\n",
    "        return tmp_img\n",
    "\n",
    "#### MAIN WIDGET/PROGRAM HERE\n",
    "\n",
    "@magicgui(call_button = 'Run Segmentation',\n",
    "          gamma = {\"widget_type\": \"FloatSlider\", 'max': 2},\n",
    "          block_size = {\"widget_type\": \"SpinBox\", 'label': 'Block Size:', 'min': 1, 'max': 20},\n",
    "          threshold_method = {\"choices\": ['Isodata', 'Li', 'Mean', 'Minimum', 'Otsu', 'Triangle', 'Yen']},\n",
    "          layout = 'vertical'\n",
    " )\n",
    "def threshold_widget(image: ImageData, \n",
    "                     gamma = 1,\n",
    "                     block_size = 3,\n",
    "                     threshold_method = 'Yen',\n",
    "                     ) -> LabelsData:\n",
    "    if image is not None:\n",
    "        # adjust the gamma level\n",
    "        label_img = gamma_level(image, gamma)\n",
    "        \n",
    "        # go through the stack and perform the local threshold\n",
    "        \n",
    "        for curr_stack in range(np.shape(label_img)[0]):\n",
    "            label_img[curr_stack] = adaptive_local_threshold(label_img[curr_stack], block_size)\n",
    "        \n",
    "        # finally do a global threshold to calculate optimized value to make it black/white\n",
    "        label_img = global_threshold_method(label_img, threshold_method)\n",
    "#         label_img = label(label_img)\n",
    "#         labels_layer = viewer.add_labels(label_img, name = 'segmentation')\n",
    "\n",
    "        return label_img\n",
    "\n",
    "# laod in neuron images via path \n",
    "\n",
    "neuron_dir = \"/mnt/5404b8a5-71b7-4464-9a1e-b40cd26fac58/Data_Drive/TRPC6 Spacetraining Data/TRPC6 GSK Spacetraining/190131/N1A5/\" # change this directory\n",
    "neuron_file = \"000_D_190130_A_N1A5.tif\" # change file name\n",
    "\n",
    "neuron_image = skimage.io.imread(os.path.join(neuron_dir,neuron_file))\n",
    "\n",
    "viewer = napari.Viewer()\n",
    "viewer.add_image(neuron_image, name = 'Neuron')\n",
    "viewer.window.add_dock_widget(threshold_widget, area = 'right')\n",
    "# threshold_widget()"
   ]
  },
  {
   "cell_type": "code",
   "execution_count": null,
   "metadata": {},
   "outputs": [],
   "source": []
  }
 ],
 "metadata": {
  "kernelspec": {
   "display_name": "Python 3",
   "language": "python",
   "name": "python3"
  },
  "language_info": {
   "codemirror_mode": {
    "name": "ipython",
    "version": 3
   },
   "file_extension": ".py",
   "mimetype": "text/x-python",
   "name": "python",
   "nbconvert_exporter": "python",
   "pygments_lexer": "ipython3",
   "version": "3.8.5"
  }
 },
 "nbformat": 4,
 "nbformat_minor": 4
}
