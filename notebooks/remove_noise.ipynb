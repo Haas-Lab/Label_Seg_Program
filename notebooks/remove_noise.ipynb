{
 "cells": [
  {
   "cell_type": "code",
   "execution_count": 10,
   "metadata": {},
   "outputs": [
    {
     "data": {
      "text/plain": [
       "''"
      ]
     },
     "execution_count": 10,
     "metadata": {},
     "output_type": "execute_result"
    }
   ],
   "source": [
    "import h5py\n",
    "import tkinter as tk\n",
    "from tkinter import filedialog\n",
    "import numpy as np\n",
    "import tifffile\n",
    "\n",
    "root = tk.Tk()\n",
    "root.withdraw()\n",
    "file_path = filedialog.askopenfilename()\n",
    "\n",
    "edit_labels = h5py.File(file_path, 'r+')\n",
    "neuron_image = np.array(edit_labels['project_data'].get('raw_image'))\n",
    "label_layer = np.array(edit_labels['project_data'].get('label'))\n",
    "\n",
    "filename = os.path.splitext(os.path.basename(file_path))[0]\n",
    "filename\n",
    "neuron_image[label_layer == 6] = 0\n",
    "neuron_image[label_layer == 7] = 0\n",
    "\n",
    "# import napari\n",
    "# viewer = napari.Viewer()\n",
    "# raw_image = viewer.add_image(neuron_image, rgb=False)\n",
    "\n",
    "tifffile.imwrite(f'{filename}.tif', neuron_image)\n",
    "edit_labels.close()"
   ]
  }
 ],
 "metadata": {
  "kernelspec": {
   "display_name": "Python 3.9.13 ('ml_env')",
   "language": "python",
   "name": "python3"
  },
  "language_info": {
   "codemirror_mode": {
    "name": "ipython",
    "version": 3
   },
   "file_extension": ".py",
   "mimetype": "text/x-python",
   "name": "python",
   "nbconvert_exporter": "python",
   "pygments_lexer": "ipython3",
   "version": "3.9.13"
  },
  "orig_nbformat": 4,
  "vscode": {
   "interpreter": {
    "hash": "e948cd2eddc2b56aed0b51f92bfb3429aca2637a323db441b1bbdcb5065963e0"
   }
  }
 },
 "nbformat": 4,
 "nbformat_minor": 2
}
