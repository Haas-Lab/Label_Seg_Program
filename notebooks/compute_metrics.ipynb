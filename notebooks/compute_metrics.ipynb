{
 "cells": [
  {
   "cell_type": "code",
   "execution_count": 1,
   "metadata": {},
   "outputs": [
    {
     "ename": "ValueError",
     "evalue": "no files found",
     "output_type": "error",
     "traceback": [
      "\u001b[0;31m---------------------------------------------------------------------------\u001b[0m",
      "\u001b[0;31mValueError\u001b[0m                                Traceback (most recent call last)",
      "\u001b[1;32m/Users/jasonfung/Documents/Label_Seg_Program/notebooks/compute_metrics.ipynb Cell 1\u001b[0m in \u001b[0;36m<cell line: 15>\u001b[0;34m()\u001b[0m\n\u001b[1;32m      <a href='vscode-notebook-cell:/Users/jasonfung/Documents/Label_Seg_Program/notebooks/compute_metrics.ipynb#W0sZmlsZQ%3D%3D?line=8'>9</a>\u001b[0m gt_file_path \u001b[39m=\u001b[39m filedialog\u001b[39m.\u001b[39maskopenfilename()\n\u001b[1;32m     <a href='vscode-notebook-cell:/Users/jasonfung/Documents/Label_Seg_Program/notebooks/compute_metrics.ipynb#W0sZmlsZQ%3D%3D?line=10'>11</a>\u001b[0m \u001b[39m# gt_file = h5py.File(gt_file_path, 'r+')\u001b[39;00m\n\u001b[1;32m     <a href='vscode-notebook-cell:/Users/jasonfung/Documents/Label_Seg_Program/notebooks/compute_metrics.ipynb#W0sZmlsZQ%3D%3D?line=11'>12</a>\u001b[0m \u001b[39m# gt_image = np.array(gt_file['project_data'].get('raw_image'))\u001b[39;00m\n\u001b[1;32m     <a href='vscode-notebook-cell:/Users/jasonfung/Documents/Label_Seg_Program/notebooks/compute_metrics.ipynb#W0sZmlsZQ%3D%3D?line=12'>13</a>\u001b[0m \u001b[39m# gt_label = np.array(gt_file['project_data'].get('label'))\u001b[39;00m\n\u001b[0;32m---> <a href='vscode-notebook-cell:/Users/jasonfung/Documents/Label_Seg_Program/notebooks/compute_metrics.ipynb#W0sZmlsZQ%3D%3D?line=14'>15</a>\u001b[0m gt_label \u001b[39m=\u001b[39m tifffile\u001b[39m.\u001b[39;49mimread(gt_file_path)\u001b[39m.\u001b[39mastype(np\u001b[39m.\u001b[39muint16)\n\u001b[1;32m     <a href='vscode-notebook-cell:/Users/jasonfung/Documents/Label_Seg_Program/notebooks/compute_metrics.ipynb#W0sZmlsZQ%3D%3D?line=17'>18</a>\u001b[0m root \u001b[39m=\u001b[39m tk\u001b[39m.\u001b[39mTk()\n\u001b[1;32m     <a href='vscode-notebook-cell:/Users/jasonfung/Documents/Label_Seg_Program/notebooks/compute_metrics.ipynb#W0sZmlsZQ%3D%3D?line=18'>19</a>\u001b[0m root\u001b[39m.\u001b[39mwithdraw()\n",
      "File \u001b[0;32m~/miniforge3/envs/ml_env/lib/python3.9/site-packages/tifffile/tifffile.py:961\u001b[0m, in \u001b[0;36mimread\u001b[0;34m(files, aszarr, key, series, level, squeeze, maxworkers, name, offset, size, pattern, axesorder, categories, imread, sort, container, axestiled, ioworkers, chunkmode, fillvalue, zattrs, _multifile, _useframes, **kwargs)\u001b[0m\n\u001b[1;32m    959\u001b[0m     files \u001b[39m=\u001b[39m glob\u001b[39m.\u001b[39mglob(files)\n\u001b[1;32m    960\u001b[0m \u001b[39mif\u001b[39;00m \u001b[39mnot\u001b[39;00m files:\n\u001b[0;32m--> 961\u001b[0m     \u001b[39mraise\u001b[39;00m \u001b[39mValueError\u001b[39;00m(\u001b[39m'\u001b[39m\u001b[39mno files found\u001b[39m\u001b[39m'\u001b[39m)\n\u001b[1;32m    963\u001b[0m \u001b[39mif\u001b[39;00m (\n\u001b[1;32m    964\u001b[0m     \u001b[39misinstance\u001b[39m(files, collections\u001b[39m.\u001b[39mabc\u001b[39m.\u001b[39mSequence)\n\u001b[1;32m    965\u001b[0m     \u001b[39mand\u001b[39;00m \u001b[39mnot\u001b[39;00m \u001b[39misinstance\u001b[39m(files, \u001b[39mstr\u001b[39m)\n\u001b[1;32m    966\u001b[0m     \u001b[39mand\u001b[39;00m \u001b[39mlen\u001b[39m(files) \u001b[39m==\u001b[39m \u001b[39m1\u001b[39m\n\u001b[1;32m    967\u001b[0m ):\n\u001b[1;32m    968\u001b[0m     files \u001b[39m=\u001b[39m files[\u001b[39m0\u001b[39m]\n",
      "\u001b[0;31mValueError\u001b[0m: no files found"
     ]
    },
    {
     "ename": "",
     "evalue": "",
     "output_type": "error",
     "traceback": [
      "\u001b[1;31mThe Kernel crashed while executing code in the the current cell or a previous cell. Please review the code in the cell(s) to identify a possible cause of the failure. Click <a href='https://aka.ms/vscodeJupyterKernelCrash'>here</a> for more info. View Jupyter <a href='command:jupyter.viewOutput'>log</a> for further details."
     ]
    }
   ],
   "source": [
    "import h5py\n",
    "import tkinter as tk\n",
    "from tkinter import filedialog\n",
    "import numpy as np\n",
    "import tifffile\n",
    "\n",
    "root = tk.Tk()\n",
    "root.withdraw()\n",
    "gt_file_path = filedialog.askopenfilename()\n",
    "\n",
    "# gt_file = h5py.File(gt_file_path, 'r+')\n",
    "# gt_image = np.array(gt_file['project_data'].get('raw_image'))\n",
    "# gt_label = np.array(gt_file['project_data'].get('label'))\n",
    "\n",
    "gt_label = tifffile.imread(gt_file_path).astype(np.uint16)\n",
    "\n",
    "\n",
    "root = tk.Tk()\n",
    "root.withdraw()\n",
    "pred_file_path = filedialog.askopenfilename()\n",
    "\n",
    "# pred_file = h5py.File(pred_file_path, 'r+')\n",
    "# pred_image = np.array(pred_file['project_data'].get('raw_image'))\n",
    "# pred_label = np.array(pred_file['project_data'].get('label'))\n",
    "\n",
    "pred_label = tifffile.imread(pred_file_path).astype(np.unint16)\n",
    "\n",
    "\n"
   ]
  },
  {
   "cell_type": "code",
   "execution_count": 8,
   "metadata": {},
   "outputs": [
    {
     "data": {
      "text/plain": [
       "array([0, 1, 2])"
      ]
     },
     "execution_count": 8,
     "metadata": {},
     "output_type": "execute_result"
    }
   ],
   "source": [
    "pred_label[pred_label>2] = 0\n",
    "np.unique(pred_label)"
   ]
  },
  {
   "cell_type": "code",
   "execution_count": 9,
   "metadata": {},
   "outputs": [
    {
     "data": {
      "text/plain": [
       "array([0, 1, 2])"
      ]
     },
     "execution_count": 9,
     "metadata": {},
     "output_type": "execute_result"
    }
   ],
   "source": [
    "gt_label[gt_label>2] = 0\n",
    "np.unique(gt_label)"
   ]
  },
  {
   "cell_type": "code",
   "execution_count": 7,
   "metadata": {},
   "outputs": [],
   "source": [
    "SCRIPT_DIR = os.path.dirname(os.path.abspath(__vsc_ipynb_file__))\n",
    "sys.path.append(os.path.dirname(SCRIPT_DIR))\n",
    "\n",
    "from processing.processing_functions import *"
   ]
  },
  {
   "cell_type": "code",
   "execution_count": 17,
   "metadata": {},
   "outputs": [],
   "source": [
    "from monai.metrics import compute_meandice\n",
    "import torch\n",
    "\n",
    "dim_order = (0,4,1,2,3)\n",
    "\n",
    "pred_cat = to_categorical_torch(pred_label, 3)\n",
    "gt_cat = to_categorical_torch(gt_label,3)\n",
    "\n",
    "pred_cat = torch.permute(torch.unsqueeze(pred_cat,0),dim_order)\n",
    "gt_cat = torch.permute(torch.unsqueeze(gt_cat, 0),dim_order)"
   ]
  },
  {
   "cell_type": "code",
   "execution_count": 18,
   "metadata": {},
   "outputs": [
    {
     "data": {
      "text/plain": [
       "torch.Size([1, 3, 35, 512, 512])"
      ]
     },
     "execution_count": 18,
     "metadata": {},
     "output_type": "execute_result"
    }
   ],
   "source": [
    "pred_cat.shape"
   ]
  },
  {
   "cell_type": "code",
   "execution_count": 19,
   "metadata": {},
   "outputs": [],
   "source": [
    "dice_scores = compute_meandice(pred_cat, gt_cat, include_background=True)"
   ]
  },
  {
   "cell_type": "code",
   "execution_count": 22,
   "metadata": {},
   "outputs": [
    {
     "data": {
      "text/plain": [
       "tensor([[0.9980, 0.2619, 0.5840]])"
      ]
     },
     "execution_count": 22,
     "metadata": {},
     "output_type": "execute_result"
    }
   ],
   "source": [
    "dice_scores"
   ]
  },
  {
   "cell_type": "code",
   "execution_count": 23,
   "metadata": {},
   "outputs": [
    {
     "ename": "",
     "evalue": "",
     "output_type": "error",
     "traceback": [
      "\u001b[1;31mThe Kernel crashed while executing code in the the current cell or a previous cell. Please review the code in the cell(s) to identify a possible cause of the failure. Click <a href='https://aka.ms/vscodeJupyterKernelCrash'>here</a> for more info. View Jupyter <a href='command:jupyter.viewOutput'>log</a> for further details."
     ]
    }
   ],
   "source": [
    "pred_file.close()\n",
    "gt_file.close()"
   ]
  },
  {
   "cell_type": "code",
   "execution_count": null,
   "metadata": {},
   "outputs": [],
   "source": []
  }
 ],
 "metadata": {
  "kernelspec": {
   "display_name": "Python 3.9.13 ('ml_env')",
   "language": "python",
   "name": "python3"
  },
  "language_info": {
   "codemirror_mode": {
    "name": "ipython",
    "version": 3
   },
   "file_extension": ".py",
   "mimetype": "text/x-python",
   "name": "python",
   "nbconvert_exporter": "python",
   "pygments_lexer": "ipython3",
   "version": "3.9.13"
  },
  "orig_nbformat": 4,
  "vscode": {
   "interpreter": {
    "hash": "e948cd2eddc2b56aed0b51f92bfb3429aca2637a323db441b1bbdcb5065963e0"
   }
  }
 },
 "nbformat": 4,
 "nbformat_minor": 2
}
