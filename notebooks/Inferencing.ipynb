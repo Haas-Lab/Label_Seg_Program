{
 "cells": [
  {
   "cell_type": "markdown",
   "id": "219919d9",
   "metadata": {},
   "source": [
    "## Inferencing Notebook"
   ]
  },
  {
   "cell_type": "code",
   "execution_count": 5,
   "id": "41f678db",
   "metadata": {
    "tags": []
   },
   "outputs": [
    {
     "name": "stderr",
     "output_type": "stream",
     "text": [
      "/Users/jasonfung/miniforge3/envs/ml_env/lib/python3.9/site-packages/tqdm/auto.py:22: TqdmWarning: IProgress not found. Please update jupyter and ipywidgets. See https://ipywidgets.readthedocs.io/en/stable/user_install.html\n",
      "  from .autonotebook import tqdm as notebook_tqdm\n",
      "/Users/jasonfung/miniforge3/envs/ml_env/lib/python3.9/site-packages/torchvision/io/image.py:13: UserWarning: Failed to load image Python extension: dlopen(/Users/jasonfung/miniforge3/envs/ml_env/lib/python3.9/site-packages/torchvision/image.so, 0x0006): Symbol not found: __ZN3c106detail19maybe_wrap_dim_slowExxb\n",
      "  Referenced from: /Users/jasonfung/miniforge3/envs/ml_env/lib/python3.9/site-packages/torchvision/image.so\n",
      "  Expected in: /Users/jasonfung/miniforge3/envs/ml_env/lib/python3.9/site-packages/torch/lib/libc10.dylib\n",
      "  warn(f\"Failed to load image Python extension: {e}\")\n"
     ]
    }
   ],
   "source": [
    "# import core libaries\n",
    "import numpy as np\n",
    "import tkinter as tk\n",
    "from tkinter import filedialog\n",
    "root = tk.Tk()\n",
    "root.withdraw()\n",
    "\n",
    "import glob\n",
    "import os\n",
    "import sys\n",
    "import tifffile\n",
    "\n",
    "SCRIPT_DIR = os.path.dirname(os.path.abspath(__vsc_ipynb_file__))\n",
    "sys.path.append(os.path.dirname(SCRIPT_DIR))\n",
    "from processing.processing_functions import *\n",
    "\n",
    "# get working directory\n",
    "path = os.getcwd()\n",
    "sys.path.append(path)\n",
    "\n",
    "# import machine learning libraries\n",
    "import torch\n",
    "from torch.utils.data import DataLoader\n",
    "from torchvision import transforms, utils\n",
    "from monai.inferers.inferer import SlidingWindowInferer, SliceInferer\n",
    "from monai.networks.nets import BasicUNet, UNet\n",
    "from monai.transforms import (\n",
    "    Activations,\n",
    "    AsDiscrete,\n",
    "    Compose,\n",
    ")"
   ]
  },
  {
   "cell_type": "code",
   "execution_count": 2,
   "id": "55de52bd",
   "metadata": {
    "tags": []
   },
   "outputs": [],
   "source": [
    "# initialize cuda if available\n",
    "use_cuda = torch.cuda.is_available()\n",
    "device = torch.device(\"cuda:0\" if use_cuda else \"cpu\")"
   ]
  },
  {
   "cell_type": "code",
   "execution_count": 3,
   "id": "2d47396a",
   "metadata": {},
   "outputs": [
    {
     "data": {
      "text/plain": [
       "device(type='cpu')"
      ]
     },
     "execution_count": 3,
     "metadata": {},
     "output_type": "execute_result"
    }
   ],
   "source": [
    "device"
   ]
  },
  {
   "cell_type": "code",
   "execution_count": 4,
   "id": "e5eda705",
   "metadata": {},
   "outputs": [],
   "source": [
    "# model = \"+s+d+f_ResUNet.onnx\"\n",
    "model_soma_dendrite = \"Soma+Dendrite.onnx\""
   ]
  },
  {
   "cell_type": "code",
   "execution_count": null,
   "id": "3e681a80",
   "metadata": {},
   "outputs": [],
   "source": [
    "# processing raw image\n",
    "lateral_steps = 64\n",
    "axial_steps = 16\n",
    "patch_size = (axial_steps, lateral_steps, lateral_steps)\n",
    "batch_size = 64\n",
    "# split_size = 0.9\n",
    "dim_order = (0,4,1,2,3) # define the image and mask dimension order\n",
    "\n",
    "raw_path = filedialog.askopenfilename()\n",
    "raw_img = glob.glob(raw_path)\n",
    "orig_shape = tifffile.imread(raw_img).shape\n",
    "\n",
    "# Use patch transform to normalize and transform ndarray(z,y,x) -> tensor(\n",
    "patch_transform = transforms.Compose([MinMaxScalerVectorized(),\n",
    "                                      patch_imgs(xy_step = lateral_steps, z_step = axial_steps, patch_size = patch_size, is_mask = False)])\n",
    "\n",
    "\n",
    "processed_test_img = MyImageDataset(raw_list = raw_img,\n",
    "                                    mask_list = None,\n",
    "                                    transform = patch_transform,\n",
    "                                    device = device,\n",
    "                                    mask_order = dim_order,\n",
    "                                    num_classes = None,\n",
    "                                    train=False)"
   ]
  },
  {
   "cell_type": "markdown",
   "id": "faf87454",
   "metadata": {},
   "source": [
    "## Using Custom Inferencing"
   ]
  },
  {
   "cell_type": "code",
   "execution_count": null,
   "id": "d6d62d70",
   "metadata": {},
   "outputs": [],
   "source": [
    "\n",
    "reconstructed_img = inference(processed_test_img, \n",
    "                              model, \n",
    "                              batch_size, \n",
    "                              patch_size, \n",
    "                              orig_shape,\n",
    "                              )\n",
    "\n",
    "np.unique(reconstructed_img)\n",
    "\n",
    "if len(np.unique(reconstructed_img))-1 == 2:\n",
    "    reconstructed_img[reconstructed_img==1] = 2"
   ]
  },
  {
   "cell_type": "code",
   "execution_count": null,
   "id": "9978bd05",
   "metadata": {},
   "outputs": [],
   "source": [
    "type(reconstructed_img)"
   ]
  },
  {
   "cell_type": "code",
   "execution_count": null,
   "id": "d9bcbe41",
   "metadata": {},
   "outputs": [],
   "source": [
    "tifffile.imwrite(f'{raw_path}_+s+d+f.tif', reconstructed_img.astype(int))"
   ]
  },
  {
   "cell_type": "markdown",
   "id": "e859310d",
   "metadata": {},
   "source": [
    "## Using MONAI Sliding Window Inferencing"
   ]
  },
  {
   "cell_type": "code",
   "execution_count": 22,
   "id": "4f7aad1f",
   "metadata": {},
   "outputs": [],
   "source": [
    "experiment = \"+s_+d_-f\"\n",
    "model_soma_dendrite = \"+s_+d_-f_ResUNet_2_57.pth\"\n",
    "model_state = f\"C:/Users/Fungj/Documents/github/Label_Seg_Program/models/{experiment}/{model_soma_dendrite}\""
   ]
  },
  {
   "cell_type": "code",
   "execution_count": 23,
   "id": "e4e5651e",
   "metadata": {},
   "outputs": [],
   "source": [
    "lateral_steps = 64\n",
    "axial_steps = 16\n",
    "patch_size = (axial_steps, lateral_steps, lateral_steps)\n",
    "batch_size = 64\n",
    "input_chnl = 1\n",
    "output_chnl = 4\n",
    "norm_type = \"batch\"\n",
    "dropout = 0.1\n",
    "\n",
    "model = UNet(spatial_dims=3, \n",
    "            in_channels = input_chnl,\n",
    "            out_channels = output_chnl,\n",
    "            channels = (32, 64, 128, 256, 512),\n",
    "            strides=(2, 2, 2, 2),\n",
    "            num_res_units=2,\n",
    "            norm = norm_type,\n",
    "            dropout = dropout)\n",
    "\n",
    "model.load_state_dict(torch.load(model_state, map_location = device))\n",
    "model = model.to(device)\n",
    "\n",
    "inferer = SlidingWindowInferer(roi_size=patch_size, sw_batch_size=batch_size)"
   ]
  },
  {
   "cell_type": "code",
   "execution_count": 24,
   "id": "62c6d593",
   "metadata": {},
   "outputs": [],
   "source": [
    "from torch.utils.data import DataLoader"
   ]
  },
  {
   "cell_type": "code",
   "execution_count": 25,
   "id": "ec74e689",
   "metadata": {},
   "outputs": [],
   "source": [
    "#pick test image\n",
    "# raw_path = filedialog.askopenfilename()\n",
    "# raw_img = glob.glob(raw_path)\n",
    "\n",
    "# mask_path = filedialog.askopenfilename()\n",
    "# mask_img = glob.glob(mask_path)\n",
    "\n",
    "raw_img = ['E:\\\\Image_Folder\\\\Raw\\\\000_B_181107_A_N1B2_4a61736f.tif']\n",
    "mask_img = ['E:\\\\Image_Folder\\\\Mask\\\\000_B_181107_A_N1B2_4a61736f.tif']\n",
    "\n",
    "segmentation_exp = experiment\n",
    "ex_autofluor = False # True/False\n",
    "ex_melanocytes = True # True/False\n",
    "dim_order = (0,4,1,2,3) # define the image and mask dimension order\n",
    "\n",
    "patch_transform = transforms.Compose([MinMaxScalerVectorized()])\n",
    "label_transform = transforms.Compose([process_masks(exp = segmentation_exp,\n",
    "                                                    ex_autofluor=ex_autofluor,\n",
    "                                                    ex_melanocytes=ex_melanocytes,\n",
    "                                                     )])\n",
    "\n",
    "processed_set = WholeVolumeDataset(raw_directory = raw_img,\n",
    "                                   mask_directory = mask_img,\n",
    "                                   num_classes = output_chnl,\n",
    "                                   raw_transform = patch_transform,\n",
    "                                   label_transform = label_transform,\n",
    "                                   mask_order = dim_order,\n",
    "                                   device = device,\n",
    "                                   )\n",
    "\n",
    "# processed_dataloader = DataLoader(processed_set, batch_size=1, shuffle= False)\n",
    "\n",
    "raw, mask = next(iter(processed_set))\n"
   ]
  },
  {
   "cell_type": "code",
   "execution_count": 9,
   "id": "f95570b8",
   "metadata": {},
   "outputs": [
    {
     "data": {
      "text/plain": [
       "torch.Size([1, 1, 135, 800, 1280])"
      ]
     },
     "execution_count": 9,
     "metadata": {},
     "output_type": "execute_result"
    }
   ],
   "source": [
    "raw.shape"
   ]
  },
  {
   "cell_type": "code",
   "execution_count": 11,
   "id": "1ddf43ff",
   "metadata": {},
   "outputs": [
    {
     "data": {
      "text/plain": [
       "tensor(1.)"
      ]
     },
     "execution_count": 11,
     "metadata": {},
     "output_type": "execute_result"
    }
   ],
   "source": [
    "raw.max()"
   ]
  },
  {
   "cell_type": "code",
   "execution_count": 26,
   "id": "36b269db",
   "metadata": {},
   "outputs": [],
   "source": [
    "# predict using shifted windows\n",
    "\n",
    "with torch.no_grad():\n",
    "    pred = inferer(inputs = raw, network=model)"
   ]
  },
  {
   "cell_type": "code",
   "execution_count": 27,
   "id": "8db443d3",
   "metadata": {},
   "outputs": [
    {
     "data": {
      "text/plain": [
       "torch.Size([1, 4, 35, 512, 512])"
      ]
     },
     "execution_count": 27,
     "metadata": {},
     "output_type": "execute_result"
    }
   ],
   "source": [
    "pred.shape"
   ]
  },
  {
   "cell_type": "code",
   "execution_count": 32,
   "id": "94767aad",
   "metadata": {},
   "outputs": [
    {
     "data": {
      "text/plain": [
       "tensor(-36.2151)"
      ]
     },
     "execution_count": 32,
     "metadata": {},
     "output_type": "execute_result"
    }
   ],
   "source": [
    "pred.min()"
   ]
  },
  {
   "cell_type": "code",
   "execution_count": 28,
   "id": "08380fde",
   "metadata": {},
   "outputs": [],
   "source": [
    "pred_from_categorical = to_numpy(torch.argmax(pred, 1))"
   ]
  },
  {
   "cell_type": "code",
   "execution_count": null,
   "id": "f329957e",
   "metadata": {},
   "outputs": [],
   "source": []
  },
  {
   "cell_type": "code",
   "execution_count": 29,
   "id": "4ca58d18",
   "metadata": {},
   "outputs": [
    {
     "data": {
      "text/plain": [
       "numpy.ndarray"
      ]
     },
     "execution_count": 29,
     "metadata": {},
     "output_type": "execute_result"
    }
   ],
   "source": [
    "type(pred_from_categorical)"
   ]
  },
  {
   "cell_type": "code",
   "execution_count": 30,
   "id": "7bf2dd58",
   "metadata": {},
   "outputs": [],
   "source": [
    "tifffile.imwrite(\"test_inference.tif\", pred_from_categorical.astype(int))"
   ]
  },
  {
   "cell_type": "code",
   "execution_count": null,
   "id": "e3e0106a",
   "metadata": {},
   "outputs": [],
   "source": [
    "torch.unique(pred_from_categorical)"
   ]
  },
  {
   "cell_type": "code",
   "execution_count": null,
   "id": "c5953174",
   "metadata": {},
   "outputs": [],
   "source": [
    "# import napari\n",
    "# viewer = napari.Viewer()\n",
    "# orig_img = tifffile.imread(raw_img)\n",
    "# raw_image = viewer.add_image(orig_img, rgb=False)"
   ]
  },
  {
   "cell_type": "code",
   "execution_count": null,
   "id": "577942a3",
   "metadata": {},
   "outputs": [],
   "source": [
    "# label_img = viewer.add_labels(reconstructed_img.astype(int))"
   ]
  },
  {
   "cell_type": "code",
   "execution_count": null,
   "id": "5e794aa0",
   "metadata": {},
   "outputs": [],
   "source": []
  },
  {
   "attachments": {},
   "cell_type": "markdown",
   "id": "e2ca3851",
   "metadata": {},
   "source": [
    "## 2D Inferencing using SliceInferer"
   ]
  },
  {
   "cell_type": "code",
   "execution_count": 17,
   "id": "0c3098b7",
   "metadata": {},
   "outputs": [],
   "source": [
    "from pathlib import Path"
   ]
  },
  {
   "cell_type": "code",
   "execution_count": 27,
   "id": "3edd825f",
   "metadata": {},
   "outputs": [],
   "source": [
    "cwd = os.getcwd()\n",
    "path = Path(cwd)\n",
    "path = path.parent.absolute()\n",
    "model_soma_dendrite = \"2D_Soma+Dendrite.pth\"\n",
    "model_path = os.path.join(path,'models',model_soma_dendrite)"
   ]
  },
  {
   "cell_type": "code",
   "execution_count": 28,
   "id": "2c1b409e",
   "metadata": {},
   "outputs": [
    {
     "data": {
      "text/plain": [
       "'/Users/jasonfung/Documents/Label_Seg_Program/models/2D_Soma+Dendrite.pth'"
      ]
     },
     "execution_count": 28,
     "metadata": {},
     "output_type": "execute_result"
    }
   ],
   "source": [
    "model_path"
   ]
  },
  {
   "cell_type": "code",
   "execution_count": 29,
   "id": "52bf10b5",
   "metadata": {},
   "outputs": [],
   "source": [
    "checkpoint = torch.load(model_path, map_location=torch.device('cpu'))"
   ]
  },
  {
   "cell_type": "code",
   "execution_count": 35,
   "id": "411fba02",
   "metadata": {},
   "outputs": [],
   "source": [
    "lateral_steps = 512\n",
    "patch_size = (lateral_steps, lateral_steps)\n",
    "batch_size = 1\n",
    "input_chnl = 1\n",
    "output_chnl = 4\n",
    "norm_type = \"batch\"\n",
    "dropout = 0.1\n",
    "\n",
    "model = UNet(spatial_dims=2, \n",
    "            in_channels = input_chnl,\n",
    "            out_channels = output_chnl,\n",
    "            channels = (32, 64, 128, 256, 512),\n",
    "            strides=(2, 2, 2, 2),\n",
    "            num_res_units=2,\n",
    "            norm = norm_type,\n",
    "            dropout = dropout)\n",
    "\n",
    "model.load_state_dict(checkpoint['model_state_dict'])\n",
    "model = model.to(device)\n",
    "\n",
    "# inferer = SlidingWindowInferer(roi_size=patch_size, sw_batch_size=batch_size)\n",
    "inferer = SliceInferer(roi_size=patch_size, sw_batch_size=batch_size, spatial_dim = 0)"
   ]
  },
  {
   "cell_type": "code",
   "execution_count": 39,
   "id": "93e4d5b0",
   "metadata": {},
   "outputs": [],
   "source": [
    "#pick test image\n",
    "# raw_path = filedialog.askopenfilename()\n",
    "# raw_img = glob.glob(raw_path)\n",
    "\n",
    "# mask_path = filedialog.askopenfilename()\n",
    "# mask_img = glob.glob(mask_path)\n",
    "raw_img = ['E:\\\\Image_Folder\\\\Raw\\\\000_ML_20180613_N4_4a61736f.tif']\n",
    "mask_img = ['E:\\\\Image_Folder\\\\Mask\\\\000_ML_20180613_N4_4a61736f.tif']\n",
    "\n",
    "segmentation_exp = experiment\n",
    "ex_autofluor = False # True/False\n",
    "ex_melanocytes = True # True/False\n",
    "dim_order = (0,4,1,2,3) # define the image and mask dimension order\n",
    "\n",
    "patch_transform = transforms.Compose([MinMaxScalerVectorized()])\n",
    "label_transform = transforms.Compose([process_masks(exp = segmentation_exp,\n",
    "                                                    ex_autofluor=ex_autofluor,\n",
    "                                                    ex_melanocytes=ex_melanocytes,\n",
    "                                                     )])\n",
    "\n",
    "processed_set = WholeVolumeDataset(raw_directory = raw_img,\n",
    "                                   mask_directory = mask_img,\n",
    "                                   num_classes = output_chnl,\n",
    "                                   raw_transform = patch_transform,\n",
    "                                   label_transform = label_transform,\n",
    "                                   mask_order = dim_order,\n",
    "                                   device = device,\n",
    "                                   )\n",
    "\n",
    "# processed_dataloader = DataLoader(processed_set, batch_size=1, shuffle= False)\n",
    "\n"
   ]
  },
  {
   "cell_type": "code",
   "execution_count": 40,
   "id": "2a9452b2",
   "metadata": {},
   "outputs": [],
   "source": [
    "raw, mask = next(iter(processed_set))"
   ]
  },
  {
   "cell_type": "code",
   "execution_count": 41,
   "id": "0146cbd9",
   "metadata": {},
   "outputs": [
    {
     "data": {
      "text/plain": [
       "torch.Size([1, 4, 190, 512, 512])"
      ]
     },
     "execution_count": 41,
     "metadata": {},
     "output_type": "execute_result"
    }
   ],
   "source": [
    "mask.shape"
   ]
  },
  {
   "cell_type": "code",
   "execution_count": 42,
   "id": "e2dd4800",
   "metadata": {},
   "outputs": [],
   "source": [
    "with torch.no_grad():\n",
    "    pred = inferer(inputs = raw, network=model)"
   ]
  },
  {
   "cell_type": "code",
   "execution_count": 43,
   "id": "694ef735",
   "metadata": {},
   "outputs": [],
   "source": [
    "probabilities = torch.softmax(pred,1)"
   ]
  },
  {
   "cell_type": "code",
   "execution_count": 44,
   "id": "9e3907dd",
   "metadata": {},
   "outputs": [
    {
     "data": {
      "text/plain": [
       "tensor([[[[[9.9388e-01, 9.9838e-01, 9.9981e-01,  ..., 9.9937e-01,\n",
       "            9.9987e-01, 9.9640e-01],\n",
       "           [9.9893e-01, 9.9996e-01, 9.9997e-01,  ..., 1.0000e+00,\n",
       "            1.0000e+00, 9.9995e-01],\n",
       "           [9.9993e-01, 9.9998e-01, 1.0000e+00,  ..., 1.0000e+00,\n",
       "            1.0000e+00, 9.9998e-01],\n",
       "           ...,\n",
       "           [9.8824e-01, 9.9906e-01, 9.9852e-01,  ..., 9.9997e-01,\n",
       "            9.9995e-01, 9.9917e-01],\n",
       "           [9.9774e-01, 9.9978e-01, 9.9997e-01,  ..., 9.9994e-01,\n",
       "            9.9997e-01, 9.9559e-01],\n",
       "           [9.8325e-01, 9.9918e-01, 9.9843e-01,  ..., 9.9526e-01,\n",
       "            9.7970e-01, 8.1134e-01]],\n",
       "\n",
       "          [[9.9443e-01, 9.9929e-01, 9.9940e-01,  ..., 9.9990e-01,\n",
       "            9.9995e-01, 9.9592e-01],\n",
       "           [9.9850e-01, 9.9995e-01, 9.9980e-01,  ..., 1.0000e+00,\n",
       "            1.0000e+00, 9.9989e-01],\n",
       "           [9.9932e-01, 9.9983e-01, 9.9994e-01,  ..., 9.9999e-01,\n",
       "            1.0000e+00, 9.9981e-01],\n",
       "           ...,\n",
       "           [1.0000e+00, 1.0000e+00, 1.0000e+00,  ..., 9.9999e-01,\n",
       "            1.0000e+00, 9.9996e-01],\n",
       "           [1.0000e+00, 1.0000e+00, 1.0000e+00,  ..., 9.9999e-01,\n",
       "            1.0000e+00, 9.9972e-01],\n",
       "           [9.9562e-01, 9.9986e-01, 9.9937e-01,  ..., 9.9923e-01,\n",
       "            9.9859e-01, 9.8551e-01]],\n",
       "\n",
       "          [[9.8756e-01, 9.9803e-01, 9.9900e-01,  ..., 9.9998e-01,\n",
       "            1.0000e+00, 9.9939e-01],\n",
       "           [9.9646e-01, 9.9987e-01, 9.9984e-01,  ..., 1.0000e+00,\n",
       "            1.0000e+00, 1.0000e+00],\n",
       "           [9.9907e-01, 9.9964e-01, 9.9999e-01,  ..., 1.0000e+00,\n",
       "            1.0000e+00, 9.9999e-01],\n",
       "           ...,\n",
       "           [9.9868e-01, 9.9998e-01, 9.9999e-01,  ..., 9.9993e-01,\n",
       "            9.9997e-01, 9.9940e-01],\n",
       "           [9.9880e-01, 9.9984e-01, 9.9996e-01,  ..., 9.9990e-01,\n",
       "            9.9999e-01, 9.9861e-01],\n",
       "           [9.5835e-01, 9.9746e-01, 9.9620e-01,  ..., 9.9840e-01,\n",
       "            9.9886e-01, 9.9365e-01]],\n",
       "\n",
       "          ...,\n",
       "\n",
       "          [[9.9922e-01, 9.9993e-01, 1.0000e+00,  ..., 9.9867e-01,\n",
       "            9.9944e-01, 9.6413e-01],\n",
       "           [9.9925e-01, 1.0000e+00, 1.0000e+00,  ..., 9.9998e-01,\n",
       "            9.9997e-01, 9.9932e-01],\n",
       "           [9.9993e-01, 1.0000e+00, 1.0000e+00,  ..., 9.9999e-01,\n",
       "            1.0000e+00, 9.9992e-01],\n",
       "           ...,\n",
       "           [9.9297e-01, 9.8097e-01, 9.9981e-01,  ..., 9.9962e-01,\n",
       "            9.9999e-01, 9.9978e-01],\n",
       "           [9.6724e-01, 9.8425e-01, 9.9950e-01,  ..., 9.9977e-01,\n",
       "            9.9999e-01, 9.9937e-01],\n",
       "           [8.6669e-01, 9.6693e-01, 9.8261e-01,  ..., 9.9904e-01,\n",
       "            9.9913e-01, 9.9007e-01]],\n",
       "\n",
       "          [[9.8430e-01, 9.9800e-01, 9.9790e-01,  ..., 9.9964e-01,\n",
       "            9.9979e-01, 9.9426e-01],\n",
       "           [9.9722e-01, 9.9994e-01, 9.9983e-01,  ..., 9.9999e-01,\n",
       "            9.9999e-01, 9.9950e-01],\n",
       "           [9.9987e-01, 9.9999e-01, 1.0000e+00,  ..., 9.9999e-01,\n",
       "            1.0000e+00, 9.9959e-01],\n",
       "           ...,\n",
       "           [9.9974e-01, 1.0000e+00, 9.9998e-01,  ..., 9.9992e-01,\n",
       "            9.9999e-01, 9.9992e-01],\n",
       "           [9.9934e-01, 9.9993e-01, 9.9998e-01,  ..., 9.9998e-01,\n",
       "            1.0000e+00, 9.9989e-01],\n",
       "           [9.5345e-01, 9.9317e-01, 9.6573e-01,  ..., 9.9969e-01,\n",
       "            9.9968e-01, 9.9768e-01]],\n",
       "\n",
       "          [[9.9956e-01, 9.9994e-01, 9.9981e-01,  ..., 9.9965e-01,\n",
       "            9.9987e-01, 9.9554e-01],\n",
       "           [9.9995e-01, 1.0000e+00, 9.9993e-01,  ..., 1.0000e+00,\n",
       "            1.0000e+00, 9.9993e-01],\n",
       "           [1.0000e+00, 1.0000e+00, 1.0000e+00,  ..., 1.0000e+00,\n",
       "            1.0000e+00, 9.9996e-01],\n",
       "           ...,\n",
       "           [9.9423e-01, 9.9979e-01, 9.9975e-01,  ..., 1.0000e+00,\n",
       "            1.0000e+00, 9.9990e-01],\n",
       "           [9.9738e-01, 9.9924e-01, 9.9999e-01,  ..., 1.0000e+00,\n",
       "            1.0000e+00, 9.9950e-01],\n",
       "           [9.0309e-01, 9.9392e-01, 9.9748e-01,  ..., 9.9976e-01,\n",
       "            9.9965e-01, 9.7920e-01]]],\n",
       "\n",
       "\n",
       "         [[[5.3981e-03, 1.5216e-03, 1.6410e-04,  ..., 5.2394e-04,\n",
       "            9.9880e-05, 2.3209e-03],\n",
       "           [1.0248e-03, 3.8874e-05, 2.6368e-05,  ..., 1.1875e-06,\n",
       "            1.5000e-06, 2.7344e-05],\n",
       "           [5.6385e-05, 1.8321e-05, 8.7449e-07,  ..., 5.2903e-09,\n",
       "            1.8667e-09, 1.1588e-05],\n",
       "           ...,\n",
       "           [1.0659e-02, 8.0698e-04, 1.2942e-03,  ..., 1.4663e-05,\n",
       "            3.4625e-05, 3.7337e-04],\n",
       "           [1.9734e-03, 1.9125e-04, 2.5287e-05,  ..., 4.3478e-05,\n",
       "            1.0026e-05, 1.2912e-03],\n",
       "           [1.2496e-02, 6.3378e-04, 1.1751e-03,  ..., 1.4740e-03,\n",
       "            1.2682e-02, 9.6522e-02]],\n",
       "\n",
       "          [[5.1173e-03, 6.5265e-04, 5.1374e-04,  ..., 9.0781e-05,\n",
       "            3.8502e-05, 2.5859e-03],\n",
       "           [1.4432e-03, 4.5020e-05, 1.8734e-04,  ..., 3.7337e-06,\n",
       "            1.5531e-06, 6.3766e-05],\n",
       "           [6.1876e-04, 1.5081e-04, 3.9517e-05,  ..., 5.2965e-06,\n",
       "            5.2835e-07, 1.1251e-04],\n",
       "           ...,\n",
       "           [2.7471e-07, 4.6034e-11, 7.1507e-09,  ..., 7.5777e-06,\n",
       "            3.0590e-06, 2.1246e-05],\n",
       "           [2.4907e-07, 2.1793e-08, 2.1411e-08,  ..., 7.8954e-06,\n",
       "            1.1897e-06, 1.7463e-04],\n",
       "           [3.3288e-03, 1.0244e-04, 2.4127e-04,  ..., 4.6393e-04,\n",
       "            9.8839e-04, 7.9269e-03]],\n",
       "\n",
       "          [[1.1206e-02, 1.7979e-03, 8.5335e-04,  ..., 1.5388e-05,\n",
       "            2.2250e-06, 3.6509e-04],\n",
       "           [3.3793e-03, 1.1800e-04, 1.5378e-04,  ..., 2.3107e-08,\n",
       "            1.0517e-08, 1.5450e-06],\n",
       "           [8.5283e-04, 3.1211e-04, 1.0470e-05,  ..., 6.9988e-08,\n",
       "            3.5971e-09, 4.7618e-06],\n",
       "           ...,\n",
       "           [1.2510e-03, 1.8792e-05, 2.6252e-06,  ..., 4.8480e-05,\n",
       "            1.2444e-05, 3.0110e-04],\n",
       "           [1.0559e-03, 1.3528e-04, 2.8580e-05,  ..., 7.8147e-05,\n",
       "            7.1510e-06, 9.0181e-04],\n",
       "           [3.2871e-02, 1.9600e-03, 2.7942e-03,  ..., 9.6011e-04,\n",
       "            8.0849e-04, 3.3454e-03]],\n",
       "\n",
       "          ...,\n",
       "\n",
       "          [[6.6524e-04, 6.1772e-05, 3.2295e-06,  ..., 1.0417e-03,\n",
       "            1.5536e-04, 9.6065e-03],\n",
       "           [6.7884e-04, 3.4775e-06, 1.2834e-06,  ..., 1.7687e-05,\n",
       "            2.4008e-05, 3.3814e-04],\n",
       "           [5.7051e-05, 3.9926e-07, 1.7473e-07,  ..., 4.1867e-06,\n",
       "            3.8618e-07, 3.9866e-05],\n",
       "           ...,\n",
       "           [3.4279e-03, 1.6532e-02, 1.1663e-04,  ..., 2.8371e-04,\n",
       "            5.7096e-06, 1.0435e-04],\n",
       "           [2.6107e-02, 1.3064e-02, 4.0968e-04,  ..., 1.7599e-04,\n",
       "            3.6244e-06, 3.7348e-04],\n",
       "           [5.8256e-02, 2.2343e-02, 1.3167e-02,  ..., 5.8793e-04,\n",
       "            6.1194e-04, 5.0874e-03]],\n",
       "\n",
       "          [[1.3678e-02, 1.7686e-03, 1.6083e-03,  ..., 3.0633e-04,\n",
       "            1.5945e-04, 3.7055e-03],\n",
       "           [2.5984e-03, 5.3935e-05, 1.6641e-04,  ..., 8.6163e-06,\n",
       "            6.6363e-06, 2.5890e-04],\n",
       "           [1.1935e-04, 1.1506e-05, 7.6948e-08,  ..., 4.4662e-06,\n",
       "            1.4807e-06, 2.2660e-04],\n",
       "           ...,\n",
       "           [2.2283e-04, 4.0574e-06, 1.9303e-05,  ..., 6.5515e-05,\n",
       "            1.1253e-05, 4.1447e-05],\n",
       "           [5.2146e-04, 6.0072e-05, 1.3963e-05,  ..., 1.7653e-05,\n",
       "            1.2942e-06, 6.3117e-05],\n",
       "           [2.1301e-02, 4.8725e-03, 2.4313e-02,  ..., 1.7697e-04,\n",
       "            2.0165e-04, 1.0197e-03]],\n",
       "\n",
       "          [[3.8014e-04, 5.3062e-05, 9.5836e-05,  ..., 2.9247e-04,\n",
       "            9.2100e-05, 2.7039e-03],\n",
       "           [5.0064e-05, 2.7956e-07, 5.7776e-05,  ..., 3.4484e-06,\n",
       "            2.2750e-06, 3.5119e-05],\n",
       "           [3.4189e-08, 2.9096e-09, 6.4571e-11,  ..., 2.1252e-06,\n",
       "            1.6073e-07, 1.8507e-05],\n",
       "           ...,\n",
       "           [5.3336e-03, 1.8826e-04, 2.3533e-04,  ..., 6.0859e-07,\n",
       "            8.2216e-07, 4.9074e-05],\n",
       "           [1.3077e-03, 6.9747e-04, 1.1800e-05,  ..., 1.0430e-06,\n",
       "            3.2527e-07, 3.0092e-04],\n",
       "           [7.1173e-02, 4.2368e-03, 2.0297e-03,  ..., 1.4089e-04,\n",
       "            2.2134e-04, 1.1084e-02]]],\n",
       "\n",
       "\n",
       "         [[[2.9154e-04, 1.1482e-05, 4.7388e-06,  ..., 2.9992e-05,\n",
       "            7.0943e-06, 3.5709e-04],\n",
       "           [1.5909e-05, 8.6457e-08, 2.5842e-08,  ..., 4.5188e-08,\n",
       "            5.1410e-08, 5.2482e-06],\n",
       "           [2.3513e-06, 1.0549e-08, 8.2153e-09,  ..., 4.7186e-10,\n",
       "            3.6885e-10, 1.1728e-06],\n",
       "           ...,\n",
       "           [2.3359e-04, 1.0988e-05, 9.6104e-06,  ..., 5.6154e-06,\n",
       "            2.5867e-06, 2.3939e-04],\n",
       "           [6.8053e-05, 9.4182e-07, 4.4565e-07,  ..., 5.7421e-06,\n",
       "            5.8062e-06, 8.9789e-04],\n",
       "           [1.1160e-03, 2.3032e-05, 2.5347e-05,  ..., 1.8882e-03,\n",
       "            3.3702e-03, 4.6573e-02]],\n",
       "\n",
       "          [[1.7400e-04, 6.1526e-06, 1.4666e-05,  ..., 5.7251e-06,\n",
       "            2.2548e-06, 2.9359e-04],\n",
       "           [1.8100e-05, 1.5895e-07, 3.2844e-07,  ..., 2.7563e-07,\n",
       "            4.9165e-08, 1.4145e-05],\n",
       "           [7.4932e-06, 6.3104e-07, 1.1117e-06,  ..., 3.6451e-07,\n",
       "            2.5371e-08, 1.8269e-05],\n",
       "           ...,\n",
       "           [1.9946e-08, 5.0653e-13, 1.1550e-11,  ..., 6.1790e-07,\n",
       "            1.3168e-07, 8.3425e-06],\n",
       "           [1.0800e-08, 1.3135e-10, 3.2021e-10,  ..., 6.8359e-07,\n",
       "            5.9026e-08, 2.1595e-05],\n",
       "           [2.8572e-04, 5.8650e-06, 2.9485e-05,  ..., 1.1128e-04,\n",
       "            6.7233e-05, 2.5127e-03]],\n",
       "\n",
       "          [[5.0528e-04, 2.1033e-05, 2.5471e-05,  ..., 1.6024e-06,\n",
       "            2.0472e-07, 8.9832e-05],\n",
       "           [2.9535e-05, 2.4580e-07, 2.0545e-07,  ..., 9.8121e-09,\n",
       "            1.3059e-09, 9.5072e-07],\n",
       "           [1.0926e-05, 6.6779e-07, 4.5512e-08,  ..., 1.7626e-08,\n",
       "            7.3479e-10, 3.7341e-06],\n",
       "           ...,\n",
       "           [1.0690e-05, 1.3592e-07, 1.2020e-07,  ..., 1.2347e-05,\n",
       "            7.1436e-06, 5.3806e-05],\n",
       "           [1.6556e-05, 1.4186e-06, 5.9368e-07,  ..., 6.4334e-06,\n",
       "            8.1761e-07, 1.4164e-04],\n",
       "           [1.3621e-03, 8.4042e-05, 8.5719e-05,  ..., 9.2231e-05,\n",
       "            5.2064e-05, 1.1018e-03]],\n",
       "\n",
       "          ...,\n",
       "\n",
       "          [[5.1600e-05, 1.3589e-06, 1.2459e-07,  ..., 1.4051e-04,\n",
       "            1.5835e-04, 9.8352e-03],\n",
       "           [1.0412e-05, 1.8460e-08, 1.8051e-09,  ..., 1.7517e-06,\n",
       "            2.6578e-06, 1.7312e-04],\n",
       "           [2.9446e-06, 1.8317e-08, 3.2619e-09,  ..., 1.6800e-07,\n",
       "            3.3108e-08, 1.0583e-05],\n",
       "           ...,\n",
       "           [2.2582e-03, 4.5341e-04, 7.8467e-06,  ..., 2.1950e-05,\n",
       "            3.2061e-06, 6.0063e-05],\n",
       "           [1.4875e-03, 4.0993e-04, 1.0915e-05,  ..., 2.5548e-05,\n",
       "            3.0244e-07, 8.0564e-05],\n",
       "           [2.7082e-02, 1.7448e-03, 5.6411e-04,  ..., 1.2568e-04,\n",
       "            7.2485e-05, 1.5376e-03]],\n",
       "\n",
       "          [[8.8510e-04, 2.9354e-05, 1.5465e-04,  ..., 2.0035e-05,\n",
       "            1.3568e-05, 7.7560e-04],\n",
       "           [7.5410e-05, 2.9949e-07, 2.9594e-07,  ..., 7.6524e-07,\n",
       "            4.6388e-07, 8.9938e-05],\n",
       "           [2.6648e-06, 1.9185e-08, 4.8769e-10,  ..., 3.1762e-07,\n",
       "            1.1350e-07, 4.4323e-05],\n",
       "           ...,\n",
       "           [1.8470e-05, 8.6453e-08, 1.1619e-07,  ..., 6.5492e-06,\n",
       "            4.2175e-07, 1.4726e-05],\n",
       "           [2.8113e-05, 5.2672e-07, 2.8911e-07,  ..., 1.1467e-06,\n",
       "            1.1692e-07, 1.2358e-05],\n",
       "           [9.0376e-03, 2.9062e-04, 1.2136e-03,  ..., 2.3451e-05,\n",
       "            3.0368e-05, 4.9519e-04]],\n",
       "\n",
       "          [[3.1933e-05, 4.7580e-07, 1.2036e-05,  ..., 2.7756e-05,\n",
       "            7.0990e-06, 4.9240e-04],\n",
       "           [8.4143e-07, 4.1637e-10, 2.0118e-07,  ..., 6.8345e-07,\n",
       "            1.1333e-07, 1.2605e-05],\n",
       "           [3.2925e-09, 9.9093e-12, 4.9291e-12,  ..., 4.1975e-07,\n",
       "            2.4380e-08, 4.6928e-06],\n",
       "           ...,\n",
       "           [1.5403e-04, 1.8025e-06, 3.9797e-07,  ..., 7.8282e-08,\n",
       "            3.8476e-08, 2.0123e-05],\n",
       "           [2.6729e-04, 3.4963e-06, 1.4470e-07,  ..., 1.1546e-07,\n",
       "            2.0499e-08, 6.1162e-05],\n",
       "           [1.0013e-02, 2.4335e-04, 4.4545e-05,  ..., 4.0449e-05,\n",
       "            2.7264e-05, 3.2540e-03]]],\n",
       "\n",
       "\n",
       "         [[[4.2834e-04, 8.4788e-05, 2.4414e-05,  ..., 7.9115e-05,\n",
       "            2.6835e-05, 9.2218e-04],\n",
       "           [3.1948e-05, 2.2742e-06, 1.4885e-06,  ..., 1.8731e-07,\n",
       "            3.2020e-07, 1.6511e-05],\n",
       "           [1.1748e-05, 7.4742e-07, 2.3248e-07,  ..., 1.8543e-09,\n",
       "            2.6622e-09, 1.2180e-05],\n",
       "           ...,\n",
       "           [8.7045e-04, 1.1734e-04, 1.8072e-04,  ..., 8.0134e-06,\n",
       "            1.5234e-05, 2.2189e-04],\n",
       "           [2.1874e-04, 2.3096e-05, 7.8608e-06,  ..., 8.8498e-06,\n",
       "            1.7924e-05, 2.2207e-03],\n",
       "           [3.1375e-03, 1.6315e-04, 3.7326e-04,  ..., 1.3814e-03,\n",
       "            4.2462e-03, 4.5564e-02]],\n",
       "\n",
       "          [[2.8369e-04, 5.4624e-05, 7.0722e-05,  ..., 6.3268e-06,\n",
       "            9.2224e-06, 1.2018e-03],\n",
       "           [3.7100e-05, 5.3504e-06, 1.2685e-05,  ..., 4.3862e-07,\n",
       "            2.0117e-07, 3.2401e-05],\n",
       "           [4.9355e-05, 1.5372e-05, 1.8385e-05,  ..., 1.7334e-06,\n",
       "            1.9574e-07, 5.5867e-05],\n",
       "           ...,\n",
       "           [4.6939e-09, 2.2280e-12, 1.3600e-09,  ..., 1.5212e-06,\n",
       "            7.3656e-07, 1.2233e-05],\n",
       "           [7.3502e-08, 4.9332e-09, 1.7175e-08,  ..., 1.3409e-06,\n",
       "            5.4531e-07, 8.6075e-05],\n",
       "           [7.6995e-04, 3.5735e-05, 3.5954e-04,  ..., 1.9673e-04,\n",
       "            3.5134e-04, 4.0463e-03]],\n",
       "\n",
       "          [[7.3370e-04, 1.4617e-04, 1.2206e-04,  ..., 1.6841e-06,\n",
       "            7.1540e-07, 1.5063e-04],\n",
       "           [1.2715e-04, 7.0465e-06, 6.3643e-06,  ..., 5.4092e-09,\n",
       "            2.8336e-09, 1.1199e-06],\n",
       "           [6.2142e-05, 4.4085e-05, 2.6147e-06,  ..., 2.4620e-08,\n",
       "            3.3267e-09, 3.0632e-06],\n",
       "           ...,\n",
       "           [5.7913e-05, 1.6846e-06, 2.7316e-06,  ..., 1.0964e-05,\n",
       "            1.4179e-05, 2.4947e-04],\n",
       "           [1.2713e-04, 2.7836e-05, 7.0828e-06,  ..., 1.8350e-05,\n",
       "            2.3654e-06, 3.4800e-04],\n",
       "           [7.4172e-03, 4.9662e-04, 9.2059e-04,  ..., 5.4505e-04,\n",
       "            2.7955e-04, 1.9071e-03]],\n",
       "\n",
       "          ...,\n",
       "\n",
       "          [[6.0794e-05, 4.0923e-06, 6.6247e-07,  ..., 1.4380e-04,\n",
       "            2.4875e-04, 1.6429e-02],\n",
       "           [5.8800e-05, 3.1098e-07, 7.8296e-08,  ..., 4.6867e-06,\n",
       "            4.4791e-06, 1.6767e-04],\n",
       "           [1.0725e-05, 3.8095e-07, 1.4923e-07,  ..., 1.5538e-06,\n",
       "            2.6216e-07, 2.5489e-05],\n",
       "           ...,\n",
       "           [1.3488e-03, 2.0414e-03, 6.9392e-05,  ..., 7.5564e-05,\n",
       "            5.0021e-06, 5.4916e-05],\n",
       "           [5.1630e-03, 2.2760e-03, 7.8816e-05,  ..., 2.5764e-05,\n",
       "            1.4823e-06, 1.7791e-04],\n",
       "           [4.7971e-02, 8.9835e-03, 3.6581e-03,  ..., 2.4970e-04,\n",
       "            1.8945e-04, 3.3088e-03]],\n",
       "\n",
       "          [[1.1337e-03, 2.0524e-04, 3.3404e-04,  ..., 3.2694e-05,\n",
       "            3.2995e-05, 1.2631e-03],\n",
       "           [1.0489e-04, 5.7269e-06, 7.3856e-06,  ..., 1.5353e-06,\n",
       "            1.1233e-06, 1.5063e-04],\n",
       "           [8.7145e-06, 6.6701e-07, 2.8039e-08,  ..., 1.1609e-06,\n",
       "            7.9093e-07, 1.3812e-04],\n",
       "           ...,\n",
       "           [1.3684e-05, 5.9852e-07, 3.5374e-06,  ..., 1.1985e-05,\n",
       "            2.1549e-06, 2.2736e-05],\n",
       "           [1.0729e-04, 7.1137e-06, 9.5011e-06,  ..., 4.4021e-06,\n",
       "            5.2511e-07, 3.3288e-05],\n",
       "           [1.6208e-02, 1.6628e-03, 8.7463e-03,  ..., 1.0508e-04,\n",
       "            9.2627e-05, 8.0140e-04]],\n",
       "\n",
       "          [[2.6007e-05, 3.8609e-06, 7.8762e-05,  ..., 3.1653e-05,\n",
       "            2.6243e-05, 1.2591e-03],\n",
       "           [1.5400e-06, 1.6068e-08, 1.3683e-05,  ..., 7.4640e-07,\n",
       "            3.7114e-07, 2.0259e-05],\n",
       "           [3.9027e-09, 4.6052e-10, 1.7624e-10,  ..., 5.5023e-07,\n",
       "            8.2753e-08, 1.2399e-05],\n",
       "           ...,\n",
       "           [2.8497e-04, 1.6531e-05, 1.6267e-05,  ..., 1.0740e-07,\n",
       "            2.4715e-07, 3.3037e-05],\n",
       "           [1.0484e-03, 5.4352e-05, 2.3919e-06,  ..., 2.0157e-07,\n",
       "            2.3412e-07, 1.3378e-04],\n",
       "           [1.5727e-02, 1.5981e-03, 4.5010e-04,  ..., 5.9394e-05,\n",
       "            1.0209e-04, 6.4631e-03]]]]])"
      ]
     },
     "execution_count": 44,
     "metadata": {},
     "output_type": "execute_result"
    }
   ],
   "source": [
    "probabilities"
   ]
  },
  {
   "cell_type": "code",
   "execution_count": 45,
   "id": "261d6605",
   "metadata": {},
   "outputs": [],
   "source": [
    "pred_from_categorical = to_numpy(torch.argmax(probabilities, 1))"
   ]
  },
  {
   "cell_type": "code",
   "execution_count": 46,
   "id": "10b718d7",
   "metadata": {},
   "outputs": [
    {
     "data": {
      "text/plain": [
       "(1, 190, 512, 512)"
      ]
     },
     "execution_count": 46,
     "metadata": {},
     "output_type": "execute_result"
    }
   ],
   "source": [
    "pred_from_categorical.shape"
   ]
  },
  {
   "cell_type": "code",
   "execution_count": 16,
   "id": "7eb540b7",
   "metadata": {},
   "outputs": [
    {
     "data": {
      "text/plain": [
       "array([0, 1, 2, 3], dtype=int64)"
      ]
     },
     "execution_count": 16,
     "metadata": {},
     "output_type": "execute_result"
    }
   ],
   "source": [
    "np.unique(pred_from_categorical)"
   ]
  },
  {
   "cell_type": "code",
   "execution_count": 48,
   "id": "474da0d3",
   "metadata": {},
   "outputs": [],
   "source": [
    "tifffile.imwrite(\"000_ML_20180613_N4_4a61736f_INFERENCED_fold_1.tif\", pred_from_categorical.astype(int))"
   ]
  },
  {
   "cell_type": "code",
   "execution_count": null,
   "id": "32d2b060",
   "metadata": {},
   "outputs": [],
   "source": []
  }
 ],
 "metadata": {
  "kernelspec": {
   "display_name": "ml_env",
   "language": "python",
   "name": "python3"
  },
  "language_info": {
   "codemirror_mode": {
    "name": "ipython",
    "version": 3
   },
   "file_extension": ".py",
   "mimetype": "text/x-python",
   "name": "python",
   "nbconvert_exporter": "python",
   "pygments_lexer": "ipython3",
   "version": "3.9.13"
  },
  "vscode": {
   "interpreter": {
    "hash": "e948cd2eddc2b56aed0b51f92bfb3429aca2637a323db441b1bbdcb5065963e0"
   }
  }
 },
 "nbformat": 4,
 "nbformat_minor": 5
}
