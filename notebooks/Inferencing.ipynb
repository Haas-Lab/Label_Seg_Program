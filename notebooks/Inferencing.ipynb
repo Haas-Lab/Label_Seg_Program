{
 "cells": [
  {
   "cell_type": "markdown",
   "id": "219919d9",
   "metadata": {},
   "source": [
    "## Inferencing Notebook"
   ]
  },
  {
   "cell_type": "code",
   "execution_count": 1,
   "id": "41f678db",
   "metadata": {
    "tags": []
   },
   "outputs": [
    {
     "name": "stderr",
     "output_type": "stream",
     "text": [
      "/Users/jasonfung/miniforge3/envs/ml_env/lib/python3.9/site-packages/tqdm/auto.py:22: TqdmWarning: IProgress not found. Please update jupyter and ipywidgets. See https://ipywidgets.readthedocs.io/en/stable/user_install.html\n",
      "  from .autonotebook import tqdm as notebook_tqdm\n",
      "/Users/jasonfung/miniforge3/envs/ml_env/lib/python3.9/site-packages/torchvision/io/image.py:13: UserWarning: Failed to load image Python extension: dlopen(/Users/jasonfung/miniforge3/envs/ml_env/lib/python3.9/site-packages/torchvision/image.so, 0x0006): Symbol not found: __ZN3c106detail19maybe_wrap_dim_slowExxb\n",
      "  Referenced from: /Users/jasonfung/miniforge3/envs/ml_env/lib/python3.9/site-packages/torchvision/image.so\n",
      "  Expected in: /Users/jasonfung/miniforge3/envs/ml_env/lib/python3.9/site-packages/torch/lib/libc10.dylib\n",
      "  warn(f\"Failed to load image Python extension: {e}\")\n"
     ]
    }
   ],
   "source": [
    "# import core libaries\n",
    "import numpy as np\n",
    "import tkinter as tk\n",
    "from tkinter import filedialog\n",
    "root = tk.Tk()\n",
    "root.withdraw()\n",
    "\n",
    "import glob\n",
    "import os\n",
    "import sys\n",
    "import tifffile\n",
    "\n",
    "SCRIPT_DIR = os.path.dirname(os.path.abspath(__vsc_ipynb_file__))\n",
    "sys.path.append(os.path.dirname(SCRIPT_DIR))\n",
    "from processing.processing_functions import *\n",
    "\n",
    "# get working directory\n",
    "path = os.getcwd()\n",
    "sys.path.append(path)\n",
    "\n",
    "# import machine learning libraries\n",
    "import torch\n",
    "from torchvision import transforms, utils"
   ]
  },
  {
   "cell_type": "code",
   "execution_count": 2,
   "id": "55de52bd",
   "metadata": {
    "tags": []
   },
   "outputs": [],
   "source": [
    "# initialize cuda if available\n",
    "use_cuda = torch.cuda.is_available()\n",
    "device = torch.device(\"cuda:0\" if use_cuda else \"cpu\")"
   ]
  },
  {
   "cell_type": "code",
   "execution_count": 3,
   "id": "e5eda705",
   "metadata": {},
   "outputs": [],
   "source": [
    "model = \"+s+d+f_ResUNet.onnx\""
   ]
  },
  {
   "cell_type": "code",
   "execution_count": 4,
   "id": "3e681a80",
   "metadata": {},
   "outputs": [],
   "source": [
    "# processing raw image\n",
    "lateral_steps = 64\n",
    "axial_steps = 16\n",
    "patch_size = (axial_steps, lateral_steps, lateral_steps)\n",
    "batch_size = 64\n",
    "# split_size = 0.9\n",
    "dim_order = (0,4,1,2,3) # define the image and mask dimension order\n",
    "\n",
    "raw_path = filedialog.askopenfilename()\n",
    "raw_img = glob.glob(raw_path)\n",
    "orig_shape = tifffile.imread(raw_img).shape\n",
    "\n",
    "# Use patch transform to normalize and transform ndarray(z,y,x) -> tensor(\n",
    "patch_transform = transforms.Compose([MinMaxScalerVectorized(),\n",
    "                                      patch_imgs(xy_step = lateral_steps, z_step = axial_steps, patch_size = patch_size, is_mask = False)])\n",
    "\n",
    "\n",
    "processed_test_img = MyImageDataset(raw_list = raw_img,\n",
    "                                    mask_list = None,\n",
    "                                    transform = patch_transform,\n",
    "                                    device = device,\n",
    "                                    img_order = dim_order,\n",
    "                                    mask_order = dim_order,\n",
    "                                    num_classes = None,\n",
    "                                    train=False)"
   ]
  },
  {
   "cell_type": "code",
   "execution_count": 5,
   "id": "d6d62d70",
   "metadata": {},
   "outputs": [
    {
     "name": "stdout",
     "output_type": "stream",
     "text": [
      "Inferencing Upper Half of Image\n"
     ]
    },
    {
     "name": "stderr",
     "output_type": "stream",
     "text": [
      "100%|██████████| 2/2 [00:04<00:00,  2.33s/it]\n"
     ]
    },
    {
     "name": "stdout",
     "output_type": "stream",
     "text": [
      "Inferencing Lower Half of Image\n"
     ]
    },
    {
     "name": "stderr",
     "output_type": "stream",
     "text": [
      "100%|██████████| 1/1 [00:02<00:00,  2.12s/it]\n"
     ]
    }
   ],
   "source": [
    "\n",
    "reconstructed_img = inference(processed_test_img, \n",
    "                              model, \n",
    "                              batch_size, \n",
    "                              patch_size, \n",
    "                              orig_shape,\n",
    "                              )\n",
    "\n",
    "np.unique(reconstructed_img)\n",
    "\n",
    "if len(np.unique(reconstructed_img))-1 == 2:\n",
    "    reconstructed_img[reconstructed_img==1] = 2"
   ]
  },
  {
   "cell_type": "code",
   "execution_count": 6,
   "id": "9978bd05",
   "metadata": {},
   "outputs": [
    {
     "data": {
      "text/plain": [
       "numpy.ndarray"
      ]
     },
     "execution_count": 6,
     "metadata": {},
     "output_type": "execute_result"
    }
   ],
   "source": [
    "type(reconstructed_img)"
   ]
  },
  {
   "cell_type": "code",
   "execution_count": 7,
   "id": "d9bcbe41",
   "metadata": {},
   "outputs": [],
   "source": [
    "tifffile.imwrite(f'{raw_path}_+s+d+f.tif', reconstructed_img.astype(int))"
   ]
  },
  {
   "cell_type": "code",
   "execution_count": 8,
   "id": "c5953174",
   "metadata": {},
   "outputs": [],
   "source": [
    "# import napari\n",
    "# viewer = napari.Viewer()\n",
    "# orig_img = tifffile.imread(raw_img)\n",
    "# raw_image = viewer.add_image(orig_img, rgb=False)"
   ]
  },
  {
   "cell_type": "code",
   "execution_count": 9,
   "id": "577942a3",
   "metadata": {},
   "outputs": [],
   "source": [
    "# label_img = viewer.add_labels(reconstructed_img.astype(int))"
   ]
  },
  {
   "cell_type": "code",
   "execution_count": null,
   "id": "5e794aa0",
   "metadata": {},
   "outputs": [],
   "source": []
  }
 ],
 "metadata": {
  "kernelspec": {
   "display_name": "Python 3.9.6 ('napari-env')",
   "language": "python",
   "name": "python3"
  },
  "language_info": {
   "codemirror_mode": {
    "name": "ipython",
    "version": 3
   },
   "file_extension": ".py",
   "mimetype": "text/x-python",
   "name": "python",
   "nbconvert_exporter": "python",
   "pygments_lexer": "ipython3",
   "version": "3.9.6"
  },
  "vscode": {
   "interpreter": {
    "hash": "9d0c1360ab5bc84afe6b86e3d25c9d9c70b0bf2be124f3b740d39924cfc2c369"
   }
  }
 },
 "nbformat": 4,
 "nbformat_minor": 5
}
