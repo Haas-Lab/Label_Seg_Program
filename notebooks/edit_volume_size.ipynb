{
 "cells": [
  {
   "cell_type": "code",
   "execution_count": 7,
   "metadata": {},
   "outputs": [
    {
     "ename": "",
     "evalue": "",
     "output_type": "error",
     "traceback": [
      "\u001b[1;31mThe Kernel crashed while executing code in the the current cell or a previous cell. Please review the code in the cell(s) to identify a possible cause of the failure. Click <a href='https://aka.ms/vscodeJupyterKernelCrash'>here</a> for more info. View Jupyter <a href='command:jupyter.viewOutput'>log</a> for further details."
     ]
    }
   ],
   "source": [
    "import h5py\n",
    "import tkinter as tk\n",
    "from tkinter import filedialog\n",
    "import numpy as np\n",
    "import tifffile\n",
    "import os\n",
    "\n",
    "root = tk.Tk()\n",
    "root.withdraw()\n",
    "file_path = filedialog.askopenfilename()\n",
    "\n",
    "begin_z = 0\n",
    "end_z = 189\n",
    "\n",
    "# read the data\n",
    "with h5py.File(file_path, 'a') as edit_labels:\n",
    "\n",
    "    raw_image_data = np.array(edit_labels['project_data'].get('raw_image'))\n",
    "    curr_label_data = np.array(edit_labels['project_data'].get('label')) # read into label data\n",
    "\n",
    "    # cut the volume\n",
    "    neuron_image = raw_image_data[begin_z:end_z,...]\n",
    "    label_layer = curr_label_data[begin_z:end_z,...]\n",
    "\n",
    "    # get make axon -> dendrite\n",
    "    label_layer[label_layer==4] = 2\n",
    "\n",
    "    filename = '000_ML_20180614_C'\n",
    "    tifffile.imwrite(f'{filename}_raw.tif', neuron_image)\n",
    "    tifffile.imwrite(f'{filename}_label.tif', label_layer)\n"
   ]
  },
  {
   "cell_type": "code",
   "execution_count": null,
   "metadata": {},
   "outputs": [],
   "source": []
  },
  {
   "cell_type": "code",
   "execution_count": null,
   "metadata": {},
   "outputs": [],
   "source": [
    "curr_label_data.shape"
   ]
  },
  {
   "cell_type": "code",
   "execution_count": null,
   "metadata": {},
   "outputs": [],
   "source": []
  }
 ],
 "metadata": {
  "kernelspec": {
   "display_name": "Python 3.9.13 ('ml_env')",
   "language": "python",
   "name": "python3"
  },
  "language_info": {
   "codemirror_mode": {
    "name": "ipython",
    "version": 3
   },
   "file_extension": ".py",
   "mimetype": "text/x-python",
   "name": "python",
   "nbconvert_exporter": "python",
   "pygments_lexer": "ipython3",
   "version": "3.9.13"
  },
  "orig_nbformat": 4,
  "vscode": {
   "interpreter": {
    "hash": "e948cd2eddc2b56aed0b51f92bfb3429aca2637a323db441b1bbdcb5065963e0"
   }
  }
 },
 "nbformat": 4,
 "nbformat_minor": 2
}
